{
 "cells": [
  {
   "cell_type": "code",
   "execution_count": null,
   "id": "3beb259e",
   "metadata": {},
   "outputs": [],
   "source": [
    "# Copyright 2023 NXP\n",
    "# All rights reserved. "
   ]
  },
  {
   "cell_type": "markdown",
   "id": "c2ab9a47",
   "metadata": {},
   "source": [
    "# 1. Install depenencies  \n",
    "Refer to [Maximum Path Length Limitation](https://learn.microsoft.com/en-us/windows/win32/fileio/maximum-file-path-limitation?tabs=powershell#enable-long-paths-in-windows-10-version-1607-and-later) if an OS error occurs on Windows."
   ]
  },
  {
   "cell_type": "code",
   "execution_count": null,
   "metadata": {},
   "outputs": [],
   "source": [
    "# Install all the necessary packages\n",
    "%pip install -r requirements.txt"
   ]
  },
  {
   "cell_type": "code",
   "execution_count": null,
   "id": "18c9f690",
   "metadata": {},
   "outputs": [],
   "source": [
    "# Import common packages\n",
    "import numpy as np\n",
    "import pandas as pd\n",
    "import os\n",
    "from os import path\n",
    "import seaborn as sns\n",
    "import matplotlib.pyplot as plt\n",
    "from collections import namedtuple\n",
    "\n",
    "#Set matplotlib settings\n",
    "%matplotlib inline"
   ]
  },
  {
   "cell_type": "markdown",
   "id": "1bdd4948",
   "metadata": {},
   "source": [
    "# 2. Define helper functions  \n",
    "These cells contain helper functions to communicate with the board, import and collect data, run animations, and create graphs."
   ]
  },
  {
   "cell_type": "markdown",
   "id": "d0d42feb",
   "metadata": {},
   "source": [
    "### Serial interface to connect to the board"
   ]
  },
  {
   "cell_type": "code",
   "execution_count": null,
   "id": "1bb9b500",
   "metadata": {},
   "outputs": [],
   "source": [
    "import serial\n",
    "\n",
    "class DevBoard():\n",
    "    def __init__(self, com_port):\n",
    "        self.__device = None\n",
    "        self.__port = com_port\n",
    "        self.__serial_buffer = ''\n",
    "        self.__samples = []\n",
    "\n",
    "    def connect(self):\n",
    "        # Open the com port\n",
    "        try:\n",
    "            self.__device = serial.Serial(port=self.__port,\n",
    "                                        baudrate=115200,\n",
    "                                        bytesize=8,\n",
    "                                        timeout=None,\n",
    "                                        stopbits=serial.STOPBITS_ONE)\n",
    "        except:\n",
    "            print('Cannot open com port! Power cycle the board and try again.')\n",
    "\n",
    "    def disconnect(self):\n",
    "        if self.__device:\n",
    "            self.__device.close()\n",
    "            self.__device = None\n",
    "            self.__serial_buffer = ''\n",
    "            self.__samples = []\n",
    "\n",
    "    def config(self, samples):\n",
    "        # To sync with board\n",
    "        self.__device.flush()\n",
    "        self.__device.write('\\n'.encode('Ascii'))\n",
    "\n",
    "        self.__device.read_until('Number of Samples (0 for continuous): '.encode('Ascii'))\n",
    "        self.__device.write(f'{samples}\\n'.encode('Ascii'))\n",
    "        self.__device.read_until(f'{samples}\\n'.encode('Ascii'))\n",
    "\n",
    "    def start(self):\n",
    "        self.__device.write('\\n'.encode('Ascii'))\n",
    "        \n",
    "    def __get_new_data(self):\n",
    "        # Read all\n",
    "        self.__serial_buffer += self.__device.read(self.__device.inWaiting()).decode('Ascii')\n",
    "        split_buff = self.__serial_buffer.split('\\n')\n",
    "        self.__serial_buffer = split_buff.pop(-1)\n",
    "        self.__samples.extend([[np.float32(n) for n in s.split(',') if n] for s in split_buff])\n",
    "        pass\n",
    "\n",
    "    def read_samples(self, n):\n",
    "        self.__get_new_data()\n",
    "\n",
    "        if len(self.__samples) < n:\n",
    "            return None\n",
    "        \n",
    "        read_samples = self.__samples[:n]\n",
    "        self.__samples = self.__samples[n:]\n",
    "        return read_samples\n",
    "\n",
    "    def read_all_samples(self):\n",
    "        self.__get_new_data()\n",
    "\n",
    "        if len(self.__samples) == 0:\n",
    "            return None\n",
    "            \n",
    "        read_samples = self.__samples\n",
    "        self.__samples = []\n",
    "        return read_samples"
   ]
  },
  {
   "cell_type": "markdown",
   "id": "edb527c2",
   "metadata": {},
   "source": [
    "### Functions to collect, save, and load data"
   ]
  },
  {
   "cell_type": "code",
   "execution_count": null,
   "id": "de98d727",
   "metadata": {},
   "outputs": [],
   "source": [
    "from datetime import datetime\n",
    "from tqdm import tqdm\n",
    "import csv\n",
    "\n",
    "def collect_data(device:DevBoard,\n",
    "                 filepath:str,\n",
    "                 filename:str,\n",
    "                 label:int,\n",
    "                 frames:int):\n",
    "    device.connect()\n",
    "    device.config(frames)\n",
    "\n",
    "    filepath = path.normpath(filepath)\n",
    "    full_path = path.join(os.getcwd(), filepath)\n",
    "    full_name = f'{filename}_{datetime.now().strftime(\"%m%d%Y%H%M%S\")}.csv'\n",
    "\n",
    "    if not os.path.exists(full_path):\n",
    "        os.makedirs(full_path)\n",
    "\n",
    "    with open(path.join(full_path, full_name), 'w', newline='') as file:\n",
    "        writer = csv.writer(file)\n",
    "        # write the header\n",
    "        header = ['thermistor']\n",
    "        header.extend([f'pixel{n}' for n in range(64)])\n",
    "        header.append('label')\n",
    "        writer.writerow(header)\n",
    "        device.start()\n",
    "        for i in tqdm(range(frames)):\n",
    "            new_sample = None\n",
    "            while not new_sample:\n",
    "                new_sample = device.read_samples(1)\n",
    "            new_sample = new_sample[0]\n",
    "            new_sample.append(label)\n",
    "            writer.writerow(new_sample)\n",
    "\n",
    "    device.disconnect()\n",
    "\n",
    "def load_dataset(data_paths:list):\n",
    "    data = list()\n",
    "    for data_path in data_paths:\n",
    "        # Get the path\n",
    "        data_path = path.normpath(data_path)\n",
    "        data_path = os.path.join(os.getcwd(), data_path)\n",
    "\n",
    "        # Iterate through all files in csv and import data\n",
    "        for root,_,files in os.walk(data_path):\n",
    "            for file in files:\n",
    "                if file.endswith('.csv'):\n",
    "                    # Read the file\n",
    "                    file_data = pd.read_csv(path.join(root, file))\n",
    "                    data.append(file_data)\n",
    "\n",
    "    if len(data) == 0:\n",
    "        return None\n",
    "    \n",
    "    return pd.concat(data)"
   ]
  },
  {
   "cell_type": "markdown",
   "id": "3a7bf92e",
   "metadata": {},
   "source": [
    "### Functions to plot and animate data"
   ]
  },
  {
   "cell_type": "code",
   "execution_count": null,
   "id": "133a19dd",
   "metadata": {},
   "outputs": [],
   "source": [
    "from IPython.display import display, clear_output\n",
    "from sklearn.metrics import confusion_matrix\n",
    "\n",
    "def plot_confusion_matrix(actual, predicted, labels, title=''):\n",
    "    #Create confusion matrix and normalizes it over predicted (columns)\n",
    "    cm = confusion_matrix(actual, predicted)\n",
    "    cm_n = confusion_matrix(actual, predicted, normalize='pred')\n",
    "    fig, ax = plt.subplots(figsize=(6,5))\n",
    "    ax.set_title(title)\n",
    "    sns.heatmap(cm.astype(int),\n",
    "                annot=True, \n",
    "                fmt='d', \n",
    "                annot_kws={'va':'top'},\n",
    "                xticklabels=labels, \n",
    "                yticklabels=labels,\n",
    "                cbar=False)\n",
    "    sns.heatmap(cm_n, \n",
    "                annot=True, \n",
    "                fmt='.1%', \n",
    "                annot_kws={'va':'bottom'},\n",
    "                xticklabels=labels, \n",
    "                yticklabels=labels,\n",
    "                cbar=False)\n",
    "    plt.ylabel('Actual')\n",
    "    plt.xlabel('Predicted')\n",
    "    plt.show(block=False)\n",
    "    \n",
    "# Show a single frame\n",
    "def show_frame(frame, label=None, ax=None, cbar=False, figisze=(4,3)):\n",
    "    if not ax:\n",
    "        _,ax = plt.subplots(figsize=figisze)\n",
    "\n",
    "    sns.heatmap(frame, cbar=cbar, ax=ax)\n",
    "\n",
    "    if label:\n",
    "        ax.set_title(label)\n",
    "        \n",
    "    ax.invert_yaxis()\n",
    "    plt.setp(ax.get_xticklabels(), visible=False)\n",
    "    plt.setp(ax.get_yticklabels(), visible=False)\n",
    "    ax.tick_params(axis='both', which='both', length=0)\n",
    "\n",
    "def run_animation(device:DevBoard,\n",
    "                  frame_dims, \n",
    "                  model=None, labels=None, \n",
    "                  threshold=0.9):\n",
    "    def extract_label(outputs):\n",
    "        label = np.argmax(outputs, axis=1).item()\n",
    "        return (label, outputs[0][label])\n",
    "\n",
    "    def animate(ax, frame):\n",
    "        show_frame(frame.reshape(frame_dims[:-1]), \n",
    "                    cbar=False, ax=ax)\n",
    "\n",
    "    def run_inference(ax, frame):\n",
    "        input = np.reshape(frame, (1,)+frame.shape)\n",
    "        output = model.predict(input, verbose=False)[0]\n",
    "        title = ''\n",
    "        for i,certainty in enumerate(output):\n",
    "            if labels and i in range(len(labels)):\n",
    "                if certainty >= threshold:\n",
    "                    title += '*' \n",
    "                title += f'{labels[i]}-'\n",
    "            title += f'{i} : {certainty:0.2f}\\n'\n",
    "        ax.set_title(title)\n",
    "            \n",
    "    device.connect()\n",
    "    device.config(0)\n",
    "    device.start()\n",
    "    \n",
    "    try:\n",
    "        fig,ax = plt.subplots()\n",
    "        while True:\n",
    "            new_frame = device.read_samples(1)\n",
    "            if new_frame:\n",
    "                new_frame = new_frame[0]\n",
    "                thermistor = new_frame[0]\n",
    "                new_frame = np.reshape(new_frame[1:], frame_dims)\n",
    "                # new_frame /= thermistor\n",
    "                animate(ax, new_frame)\n",
    "                if model:\n",
    "                    run_inference(ax, new_frame)\n",
    "\n",
    "                display(fig)\n",
    "                clear_output(wait=True)\n",
    "    except:\n",
    "        clear_output(wait=True)\n",
    "        device.disconnect()"
   ]
  },
  {
   "cell_type": "markdown",
   "id": "6c017cbd",
   "metadata": {},
   "source": [
    "### Function to save model"
   ]
  },
  {
   "cell_type": "code",
   "execution_count": null,
   "id": "a0780f54",
   "metadata": {},
   "outputs": [],
   "source": [
    "import tensorflow as tf\n",
    "import tensorflow.lite as tflite\n",
    "from tensorflow.lite.python.util import convert_bytes_to_c_source\n",
    "    \n",
    "def convert_to_c(tflite_model, file_name, save_path):\n",
    "    source_text, header_text = convert_bytes_to_c_source(tflite_model,  file_name)\n",
    "    file_path = path.normpath(path.join(os.getcwd(), save_path))\n",
    "    \n",
    "    if not os.path.exists(file_path):\n",
    "        os.makedirs(file_path)\n",
    "\n",
    "    file_path = path.join(file_path, file_name)\n",
    "\n",
    "    with  open(f'{file_path}.h',  'w')  as  file:\n",
    "        file.write(header_text)\n",
    "\n",
    "    with  open(f'{file_path}.cpp',  'w')  as  file:\n",
    "        file.write(f'\\n#include \\\"{file_name}.h\\\"\\n')\n",
    "        file.write(source_text)\n",
    "\n",
    "# Models are saved in ./models/\n",
    "def save_model(model, name, representative_data_gen):\n",
    "    root_path = path.normpath(path.join(os.getcwd(), 'models'))\n",
    "    \n",
    "    if not os.path.exists(root_path):\n",
    "        os.makedirs(root_path)\n",
    "\n",
    "    keras_path = path.join(root_path, f'{name}.keras')\n",
    "    tflite_path = path.join(root_path, f'{name}.tflite')\n",
    "    tflite_quant_path = path.join(root_path, f'{name}_quant.tflite')\n",
    "\n",
    "    # store the keras model\n",
    "    print(\"Save keras model\")\n",
    "    model.save(keras_path)\n",
    "    \n",
    "    # convert keras model into tf lite model\n",
    "    print(\"Convert and save tflite model\")\n",
    "    converter = tflite.TFLiteConverter.from_keras_model(model)\n",
    "    tflite_model = converter.convert()\n",
    "\n",
    "    # convert keras model into quantized tf lite model\n",
    "    print(\"Convert and save tflite model - quantized\")    \n",
    "    converter.optimizations = [tf.lite.Optimize.DEFAULT]\n",
    "    converter.representative_dataset = representative_data_gen\n",
    "    tflite_model_quant = converter.convert()\n",
    "    \n",
    "    # store the tf lite models\n",
    "    open(tflite_path, \"wb\").write(tflite_model)\n",
    "    open(tflite_quant_path, \"wb\").write(tflite_model_quant)\n",
    "    \n",
    "    # convert to C source code and store it\n",
    "    convert_to_c(tflite_model, f'{name}_tflite', 'models/src')\n",
    "    convert_to_c(tflite_model_quant, f'{name}_tflite_quant', 'models/src')\n",
    "\n",
    "    print(\"Done!\")\n",
    "\n",
    "    return tflite_model, tflite_model_quant\n",
    "\n",
    "def run_tflite_inference(model, data):\n",
    "    interpreter = tf.lite.Interpreter(model_content=model)\n",
    "    interpreter.resize_tensor_input(0, data.shape)\n",
    "    interpreter.allocate_tensors()\n",
    "\n",
    "    input_details = interpreter.get_input_details()\n",
    "    output_details = interpreter.get_output_details()\n",
    "\n",
    "    interpreter.set_tensor(input_details[0]['index'], data)\n",
    "\n",
    "    interpreter.invoke()\n",
    "\n",
    "    output_data = interpreter.get_tensor(output_details[0]['index'])\n",
    "    return output_data"
   ]
  },
  {
   "cell_type": "markdown",
   "id": "71e1673f",
   "metadata": {},
   "source": [
    "# 3. Define constants and parameters  \n",
    "Make sure that `COM_PORT` corresponds to the board serial port. If this is not set correctly, you won't be able to collect data nor run the animation in step 13."
   ]
  },
  {
   "cell_type": "code",
   "execution_count": null,
   "id": "37d928b8",
   "metadata": {},
   "outputs": [],
   "source": [
    "TempRange = namedtuple('TempRange', ['min','max'])\n",
    "FrameDims = namedtuple('FrameDims', ['height', 'width', 'channels'])"
   ]
  },
  {
   "cell_type": "code",
   "execution_count": null,
   "id": "9af96e86",
   "metadata": {},
   "outputs": [],
   "source": [
    "# Change this to fit your use case\n",
    "SAMPLING_RATE_HZ = 10\n",
    "FRAME_DIMS = FrameDims(8,8,1)\n",
    "COM_PORT = 'COM38'\n",
    "LABELS = ['no-presence', 'one', 'two']\n",
    "BOARD = DevBoard(COM_PORT)\n",
    "TEMP_RANGE = TempRange(0.0, 80.0)"
   ]
  },
  {
   "cell_type": "markdown",
   "id": "cceeb549",
   "metadata": {},
   "source": [
    "# 4. Collect sensor data (optional)  \n",
    "This is an optional step in case you want to collect your own data for a different type of model.  \n",
    "Open the MCU project in MCUXpresso and make sure that ```APP_COLLECT_DATA``` is defined in main.cpp. Build the project and flash it to the board."
   ]
  },
  {
   "cell_type": "code",
   "execution_count": null,
   "id": "a991b18e",
   "metadata": {},
   "outputs": [],
   "source": [
    "CLASS_NAME = 'one'\n",
    "\n",
    "collect_data(device=BOARD,\n",
    "             filepath=f'data/train/{CLASS_NAME}',\n",
    "             filename=CLASS_NAME, \n",
    "             label=LABELS.index(CLASS_NAME),\n",
    "             frames=50)"
   ]
  },
  {
   "cell_type": "markdown",
   "id": "89599b05",
   "metadata": {},
   "source": [
    "# 5. Load the dataset"
   ]
  },
  {
   "cell_type": "markdown",
   "id": "7aabfee0",
   "metadata": {},
   "source": [
    "### Load custom dataset  \n",
    "You can use this to load the data you collected in step 4."
   ]
  },
  {
   "cell_type": "code",
   "execution_count": null,
   "id": "5a870584",
   "metadata": {},
   "outputs": [],
   "source": [
    "dataset_df = load_dataset(data_paths=['data/train'])"
   ]
  },
  {
   "cell_type": "markdown",
   "id": "0ef0e1bd",
   "metadata": {},
   "source": [
    "### or"
   ]
  },
  {
   "cell_type": "markdown",
   "id": "783e309b",
   "metadata": {},
   "source": [
    "### Load LINAIGE dataset  \n",
    "This dataset is a collecdtion of frames from ceiling-mounted sensors in different rooms. Please refer to the research papers for more information."
   ]
  },
  {
   "cell_type": "markdown",
   "id": "474046f9",
   "metadata": {},
   "source": [
    "Source:  \n",
    "* [LINAIGE Dataset](https://www.kaggle.com/datasets/francescodaghero/linaige)\n",
    "\n",
    "Authors:  \n",
    "* Xie, Chen  \n",
    "* Daghero, Francesco  \n",
    "* Chen, Yukai  \n",
    "* Castellano, Marco  \n",
    "* Gandolfi, Luca  \n",
    "* Calimera, Andrea  \n",
    "* Macii, Enrico  \n",
    "* Poncino, Massimo  \n",
    "* Jahier Pagliari, Daniele  \n",
    "\n",
    "Related Papers:  \n",
    "* [Privacy-preserving Social Distance Monitoring on Microcontrollers with Low-Resolution Infrared Sensors and CNNs](https://arxiv.org/pdf/2204.10541.pdf)\n",
    "* [Efficient Deep Learning Models for Privacy-preserving People Counting on Low-resolution Infrared Arrays](https://arxiv.org/pdf/2304.06059.pdf)  \n",
    "  \n",
    "License:  \n",
    "* [Attribution 4.0 International (CC BY 4.0)](https://creativecommons.org/licenses/by/4.0/)\n"
   ]
  },
  {
   "cell_type": "code",
   "execution_count": null,
   "id": "374fba14",
   "metadata": {},
   "outputs": [],
   "source": [
    "dataset_df = load_dataset(['data/linaige/'])\n",
    "# Keeping only the easy frames and at most two people\n",
    "dataset_df = dataset_df[dataset_df[\"confidence\"]==\"e\"]\n",
    "dataset_df = dataset_df[dataset_df[\"people_number\"]<=2]\n",
    "# Add label column\n",
    "dataset_df[\"label\"] = (dataset_df[\"people_number\"]).astype(int)"
   ]
  },
  {
   "cell_type": "markdown",
   "id": "f3f4423d",
   "metadata": {},
   "source": [
    "# 6. Balance the dataset  \n",
    "Ensure that classes are evenly represented in the dataset. This method downsamples classes that are over represented."
   ]
  },
  {
   "cell_type": "code",
   "execution_count": null,
   "id": "db364722",
   "metadata": {},
   "outputs": [],
   "source": [
    "counts = []\n",
    "subsets = []\n",
    "for i in range(len(LABELS)):\n",
    "    subsets.append(dataset_df.loc[dataset_df[\"label\"] == i, :])\n",
    "    counts.append(len(subsets[i]))\n",
    "\n",
    "min_len = min(counts)\n",
    "sampled_classes = []\n",
    "for i in range(len(LABELS)):\n",
    "    subset = dataset_df.loc[dataset_df[\"label\"] == i, :]\n",
    "    sampled_classes.append(subset.sample(min_len))\n",
    "\n",
    "balanced_df = pd.concat(sampled_classes, ignore_index=True)"
   ]
  },
  {
   "cell_type": "markdown",
   "id": "23cc7753",
   "metadata": {},
   "source": [
    "# 7. Split the dataset into train, validation, and test"
   ]
  },
  {
   "cell_type": "code",
   "execution_count": null,
   "id": "8a69f341",
   "metadata": {},
   "outputs": [],
   "source": [
    "from sklearn.model_selection import train_test_split\n",
    "\n",
    "# Get the mean and variance of the data\n",
    "dataset_mean = balanced_df.loc[:,'pixel0':'pixel63'].to_numpy().mean()\n",
    "dataset_var = balanced_df.loc[:,'pixel0':'pixel63'].to_numpy().var()\n",
    "\n",
    "train_df, test_df = train_test_split(balanced_df, test_size=0.1, shuffle=True)\n",
    "train_df, validation_df = train_test_split(train_df, test_size=0.2, shuffle=True)\n",
    "\n",
    "X_train = train_df.loc[:,'pixel0':'pixel63'].to_numpy().reshape((-1,)+FRAME_DIMS).astype(np.float32)\n",
    "y_train = train_df[\"label\"].to_numpy().astype(int)\n",
    "\n",
    "X_validation = validation_df.loc[:,'pixel0':'pixel63'].to_numpy().reshape((-1,)+FRAME_DIMS).astype(np.float32)\n",
    "y_validation = validation_df[\"label\"].to_numpy().astype(int)\n",
    "\n",
    "X_test = test_df.loc[:,'pixel0':'pixel63'].to_numpy().reshape((-1,)+FRAME_DIMS).astype(np.float32)\n",
    "y_test = test_df[\"label\"].to_numpy().astype(int)"
   ]
  },
  {
   "cell_type": "markdown",
   "id": "3acf490f",
   "metadata": {},
   "source": [
    "# 8. Analyze the data  \n",
    "Analyze the data split and class breakdown for each set."
   ]
  },
  {
   "cell_type": "code",
   "execution_count": null,
   "id": "6edf20d2",
   "metadata": {},
   "outputs": [],
   "source": [
    "total_samples = len(X_train) + len(X_validation) + len(X_test)\n",
    "class_count_dataset = np.zeros(len(LABELS))\n",
    "class_count_train = np.zeros(len(LABELS))\n",
    "class_count_validation = np.zeros(len(LABELS))\n",
    "class_count_test = np.zeros(len(LABELS))\n",
    "for i in range(len(LABELS)):\n",
    "    class_count_train[i] = np.count_nonzero(y_train == i)\n",
    "    class_count_validation[i] = np.count_nonzero(y_validation == i)\n",
    "    class_count_test[i] = np.count_nonzero(y_test == i)\n",
    "    class_count_dataset[i] = class_count_test[i] + \\\n",
    "                             class_count_validation[i] + \\\n",
    "                             class_count_test[i]\n",
    "\n",
    "print(f'Dataset size: {total_samples}')\n",
    "print(f'Train size: {len(X_train)} | {(len(X_train)/total_samples)*100:0.2f}%')\n",
    "print(f'Validation size: {len(X_validation)} | {(len(X_validation)/total_samples)*100:0.2f}%')\n",
    "print(f'Test size: {len(X_test)} | {(len(X_test)/total_samples)*100:0.2f}%')\n",
    "\n",
    "print(f'Dataset class breakdown: {np.round(class_count_dataset/np.sum(class_count_dataset), 2)}')\n",
    "print(f'Train class breakdown: {np.round(class_count_train/np.sum(class_count_train), 2)}')\n",
    "print(f'Validation class breakdown: {np.round(class_count_validation/np.sum(class_count_validation), 2)}')\n",
    "print(f'Test class breakdown: {np.round(class_count_test/np.sum(class_count_test), 2)}')"
   ]
  },
  {
   "cell_type": "markdown",
   "id": "87a54782",
   "metadata": {},
   "source": [
    "Visualize a couple of samples to get a better idea of how the data looks."
   ]
  },
  {
   "cell_type": "code",
   "execution_count": null,
   "id": "8f49cc77",
   "metadata": {},
   "outputs": [],
   "source": [
    "import random\n",
    "\n",
    "SAMPLES_TO_SHOW = 3\n",
    "rand_sample_idxs = random.sample(range(len(X_train)), SAMPLES_TO_SHOW)\n",
    "for i,idx in enumerate(rand_sample_idxs):\n",
    "    sample = X_train[idx].reshape(FRAME_DIMS[:-1])\n",
    "    label = LABELS[y_train[idx]]\n",
    "    show_frame(frame=sample, label=label, cbar=True)"
   ]
  },
  {
   "cell_type": "markdown",
   "id": "95efa241",
   "metadata": {},
   "source": [
    "# 9. Define the model"
   ]
  },
  {
   "cell_type": "markdown",
   "id": "0ac88f90",
   "metadata": {},
   "source": [
    "### Create a new model"
   ]
  },
  {
   "cell_type": "code",
   "execution_count": null,
   "id": "07753fe6",
   "metadata": {},
   "outputs": [],
   "source": [
    "from tensorflow import keras\n",
    "from keras import Sequential\n",
    "from keras.layers import Dense, Input, Conv2D, Dropout, \\\n",
    "                         BatchNormalization, Flatten, \\\n",
    "                         MaxPooling2D, RandomFlip, Normalization\n",
    "\n",
    "\n",
    "preprocess = [\n",
    "    Input(shape=FRAME_DIMS, name='image'),\n",
    "    RandomFlip(),\n",
    "    Normalization(mean=dataset_mean, variance=dataset_var)\n",
    "]\n",
    "\n",
    "hidden = []\n",
    "for l in [32,64]:\n",
    "    hidden.append(BatchNormalization())\n",
    "    hidden.append(Conv2D(l, (3, 3), activation='relu', padding='same'),)\n",
    "    hidden.append(MaxPooling2D((2, 2)))\n",
    "    hidden.append(Dropout(0.2))\n",
    "\n",
    "classifier = [\n",
    "    Flatten(),\n",
    "    Dense(64, activation='relu'),\n",
    "    Dropout(0.5),\n",
    "    Dense(len(LABELS), activation='softmax', name='prediction')        \n",
    "]\n",
    "\n",
    "model = Sequential(preprocess + hidden + classifier)\n",
    "optimizer = keras.optimizers.Adam(0.001)\n",
    "model.compile(\n",
    "    optimizer,\n",
    "    'sparse_categorical_crossentropy',\n",
    "    metrics=['accuracy']\n",
    ")\n",
    "\n",
    "model.summary()"
   ]
  },
  {
   "cell_type": "markdown",
   "id": "3d5a1710",
   "metadata": {},
   "source": [
    "### or"
   ]
  },
  {
   "cell_type": "markdown",
   "id": "13a18d7b",
   "metadata": {},
   "source": [
    "### Load an existing model"
   ]
  },
  {
   "cell_type": "code",
   "execution_count": null,
   "id": "01ee54da",
   "metadata": {},
   "outputs": [],
   "source": [
    "model = tf.keras.models.load_model(\"models/model.keras\")\n",
    "model.summary()"
   ]
  },
  {
   "cell_type": "markdown",
   "id": "5374480c",
   "metadata": {},
   "source": [
    "# 10. Train"
   ]
  },
  {
   "cell_type": "code",
   "execution_count": null,
   "id": "f52bd155",
   "metadata": {},
   "outputs": [],
   "source": [
    "history = model.fit(\n",
    "    X_train, y_train,\n",
    "    epochs=15,\n",
    "    batch_size=32,\n",
    "    validation_data=(X_validation, y_validation),\n",
    "    verbose=True,\n",
    ")"
   ]
  },
  {
   "cell_type": "markdown",
   "id": "67ccf76a",
   "metadata": {},
   "source": [
    "# 11. Analyze train results"
   ]
  },
  {
   "cell_type": "markdown",
   "id": "afc97a89",
   "metadata": {},
   "source": [
    "### Plot training accuracy and loss"
   ]
  },
  {
   "cell_type": "code",
   "execution_count": null,
   "id": "b8c3cc4c",
   "metadata": {},
   "outputs": [],
   "source": [
    "df_history = pd.DataFrame(history.history)\n",
    "fig, ax = plt.subplots(2)\n",
    "plot_loss = sns.lineplot(data=df_history[['loss', 'val_loss']], ax=ax[0])\n",
    "plt.setp(ax[0].get_xticklabels(), visible=False)\n",
    "plot_acc = sns.lineplot(data=df_history[['accuracy', 'val_accuracy']], ax=ax[1])\n",
    "plot_acc.set_xlabel('Epochs')"
   ]
  },
  {
   "cell_type": "markdown",
   "id": "93cfc854",
   "metadata": {},
   "source": [
    "### Plot training data confusion matrix"
   ]
  },
  {
   "cell_type": "code",
   "execution_count": null,
   "id": "1cbfeb69",
   "metadata": {},
   "outputs": [],
   "source": [
    "preds = model.predict(X_train, verbose=False)\n",
    "preds = np.argmax(preds, axis=1)\n",
    "plot_confusion_matrix(y_train, preds, LABELS, 'Train Data')"
   ]
  },
  {
   "cell_type": "markdown",
   "id": "1ffb0d3c",
   "metadata": {},
   "source": [
    "### Plot validation data confusion matrix"
   ]
  },
  {
   "cell_type": "code",
   "execution_count": null,
   "id": "d3bfe410",
   "metadata": {},
   "outputs": [],
   "source": [
    "preds = model.predict(X_validation, verbose=False)\n",
    "preds = np.argmax(preds, axis=1)\n",
    "plot_confusion_matrix(y_validation, preds, LABELS, 'Validation Data')"
   ]
  },
  {
   "cell_type": "markdown",
   "id": "2022758e",
   "metadata": {},
   "source": [
    "# 12. Test model with test data"
   ]
  },
  {
   "cell_type": "code",
   "execution_count": null,
   "id": "15ec7632",
   "metadata": {},
   "outputs": [],
   "source": [
    "preds = model.predict(X_test, verbose=False)\n",
    "preds = np.argmax(preds, axis=1)\n",
    "plot_confusion_matrix(y_test, preds, LABELS, 'Test Data')"
   ]
  },
  {
   "attachments": {
    "image.png": {
     "image/png": "[encoded data removed]"
    }
   },
   "cell_type": "markdown",
   "id": "b612a6e5",
   "metadata": {},
   "source": [
    "# 13. Run model with realtime data  \n",
    "This gathers real-time data from the board, runs in through the model, and outputs a real-time animation of the results.  \n",
    "Open the MCU project in MCUXpresso and make sure that ```APP_COLLECT_DATA``` is defined in main.cpp. Build the project and flash it to the board.  \n",
    "The animation should look like this:  \n",
    "![image.png](attachment:image.png)"
   ]
  },
  {
   "cell_type": "code",
   "execution_count": null,
   "id": "338910cd",
   "metadata": {},
   "outputs": [],
   "source": [
    "run_animation(device=BOARD,\n",
    "              frame_dims=FRAME_DIMS,\n",
    "              model=model, \n",
    "              labels=LABELS,\n",
    "              threshold=0.8)"
   ]
  },
  {
   "cell_type": "markdown",
   "id": "a3dc01b6",
   "metadata": {},
   "source": [
    "# 14. Save and convert the model to run on device  \n",
    "Once saved, open  the MCU project in MCUXpresso, comment out ```APP_COLLECT_DATA``` in main.cpp, re-build the project, and flash it to the board."
   ]
  },
  {
   "cell_type": "code",
   "execution_count": null,
   "id": "0e72cf8f",
   "metadata": {},
   "outputs": [],
   "source": [
    "def representative_dataset():\n",
    "  for data in tf.data.Dataset.from_tensor_slices((X_train)).batch(1).take(100):\n",
    "    yield {\n",
    "      \"image\": data\n",
    "    }\n",
    "\n",
    "tfl_model, tfl_quant_model = save_model(model, 'model', representative_dataset)"
   ]
  },
  {
   "cell_type": "markdown",
   "id": "38413a36",
   "metadata": {},
   "source": [
    "# 15. Test Converted Models"
   ]
  },
  {
   "cell_type": "markdown",
   "id": "4bd7dfaa",
   "metadata": {},
   "source": [
    "### TFLite"
   ]
  },
  {
   "cell_type": "code",
   "execution_count": null,
   "id": "561b226d",
   "metadata": {},
   "outputs": [],
   "source": [
    "preds = run_tflite_inference(tfl_model, X_train)\n",
    "preds = np.argmax(preds, axis=1)\n",
    "plot_confusion_matrix(y_train, preds, LABELS, 'Train Data')\n",
    "\n",
    "preds = run_tflite_inference(tfl_model, X_validation)\n",
    "preds = np.argmax(preds, axis=1)\n",
    "plot_confusion_matrix(y_validation, preds, LABELS, 'Validation Data')\n",
    "\n",
    "preds = run_tflite_inference(tfl_model, X_test)\n",
    "preds = np.argmax(preds, axis=1)\n",
    "plot_confusion_matrix(y_test, preds, LABELS, 'Test Data')"
   ]
  },
  {
   "cell_type": "markdown",
   "id": "4c4dee06",
   "metadata": {},
   "source": [
    "### TFLite Quantized"
   ]
  },
  {
   "cell_type": "code",
   "execution_count": null,
   "id": "af6cdb15",
   "metadata": {},
   "outputs": [],
   "source": [
    "preds = run_tflite_inference(tfl_quant_model, X_train)\n",
    "preds = np.argmax(preds, axis=1)\n",
    "plot_confusion_matrix(y_train, preds, LABELS, 'Train Data')\n",
    "\n",
    "preds = run_tflite_inference(tfl_quant_model, X_validation)\n",
    "preds = np.argmax(preds, axis=1)\n",
    "plot_confusion_matrix(y_validation, preds, LABELS, 'Validation Data')\n",
    "\n",
    "preds = run_tflite_inference(tfl_quant_model, X_test)\n",
    "preds = np.argmax(preds, axis=1)\n",
    "plot_confusion_matrix(y_test, preds, LABELS, 'Test Data')"
   ]
  }
 ],
 "metadata": {
  "kernelspec": {
   "display_name": ".venv",
   "language": "python",
   "name": "python3"
  },
  "language_info": {
   "codemirror_mode": {
    "name": "ipython",
    "version": 3
   },
   "file_extension": ".py",
   "mimetype": "text/x-python",
   "name": "python",
   "nbconvert_exporter": "python",
   "pygments_lexer": "ipython3",
   "version": "3.11.4"
  }
 },
 "nbformat": 4,
 "nbformat_minor": 5
}
